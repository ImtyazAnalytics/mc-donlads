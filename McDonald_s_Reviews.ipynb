{
 "cells": [
  {
   "cell_type": "code",
   "execution_count": 5,
   "id": "b45439cc",
   "metadata": {},
   "outputs": [
    {
     "name": "stdout",
     "output_type": "stream",
     "text": [
      "   reviewer_id  store_name              category  \\\n",
      "0            1  McDonald's  Fast food restaurant   \n",
      "1            2  McDonald's  Fast food restaurant   \n",
      "2            3  McDonald's  Fast food restaurant   \n",
      "3            4  McDonald's  Fast food restaurant   \n",
      "4            5  McDonald's  Fast food restaurant   \n",
      "\n",
      "                                       store_address  latitude   longitude  \\\n",
      "0  13749 US-183 Hwy, Austin, TX 78750, United States  30.460718 -97.792874   \n",
      "1  13749 US-183 Hwy, Austin, TX 78750, United States  30.460718 -97.792874   \n",
      "2  13749 US-183 Hwy, Austin, TX 78750, United States  30.460718 -97.792874   \n",
      "3  13749 US-183 Hwy, Austin, TX 78750, United States  30.460718 -97.792874   \n",
      "4  13749 US-183 Hwy, Austin, TX 78750, United States  30.460718 -97.792874   \n",
      "\n",
      "  rating_count   review_time  \\\n",
      "0        1,240  3 months ago   \n",
      "1        1,240    5 days ago   \n",
      "2        1,240    5 days ago   \n",
      "3        1,240   a month ago   \n",
      "4        1,240  2 months ago   \n",
      "\n",
      "                                              review   rating  \n",
      "0  Why does it look like someone spit on my food?...   1 star  \n",
      "1  It'd McDonalds. It is what it is as far as the...  4 stars  \n",
      "2  Made a mobile order got to the speaker and che...   1 star  \n",
      "3  My mc. Crispy chicken sandwich was ï¿½ï¿½ï¿½ï¿...  5 stars  \n",
      "4  I repeat my order 3 times in the drive thru, a...   1 star  \n"
     ]
    }
   ],
   "source": [
    "import pandas as pd\n",
    "\n",
    "# Attempt to load the CSV with a common alternative encoding\n",
    "reviews_df = pd.read_csv('McDonald_s_Reviews.csv', encoding='ISO-8859-1')\n",
    "\n",
    "\n",
    "print(reviews_df.head())  # Display the first few rows of the DataFrame\n"
   ]
  },
  {
   "cell_type": "code",
   "execution_count": 6,
   "id": "baef94fb",
   "metadata": {},
   "outputs": [],
   "source": [
    "data_info = {\n",
    "    \"Shape\": reviews_df.shape,\n",
    "    \"Columns\": reviews_df.columns.tolist(),\n",
    "    \"Data Types\": reviews_df.dtypes,\n",
    "    \"Missing Values\": reviews_df.isnull().sum()\n",
    "}\n"
   ]
  },
  {
   "cell_type": "code",
   "execution_count": 9,
   "id": "eb0a1cbe",
   "metadata": {},
   "outputs": [
    {
     "name": "stderr",
     "output_type": "stream",
     "text": [
      "[nltk_data] Downloading package stopwords to\n",
      "[nltk_data]     C:\\Users\\imtya\\AppData\\Roaming\\nltk_data...\n",
      "[nltk_data]   Unzipping corpora\\stopwords.zip.\n"
     ]
    }
   ],
   "source": [
    "import nltk\n",
    "from nltk.corpus import stopwords\n",
    "\n",
    "nltk.download('stopwords')\n",
    "ENGLISH_STOP_WORDS = set(stopwords.words('english'))"
   ]
  },
  {
   "cell_type": "code",
   "execution_count": 10,
   "id": "d007e0cc",
   "metadata": {},
   "outputs": [],
   "source": [
    "import re  # Add this line to import the 're' module\n",
    "\n",
    "def clean_text(text):\n",
    "    text = re.sub(r'http\\S+|www\\S+|https\\S+', '', text, flags=re.MULTILINE)\n",
    "    text = re.sub(r'\\@\\w+|\\#','', text)\n",
    "    text = re.sub(r'[^a-zA-Z\\s]', '', text)\n",
    "    text_tokens = text.split()\n",
    "    filtered_words = [word for word in text_tokens if word.lower() not in ENGLISH_STOP_WORDS]\n",
    "    return \" \".join(filtered_words).lower()\n",
    "\n",
    "# Assuming reviews_df is your DataFrame and 'review' is the column you want to clean\n",
    "reviews_df['clean_review'] = reviews_df['review'].apply(clean_text)\n",
    "\n"
   ]
  },
  {
   "cell_type": "code",
   "execution_count": 14,
   "id": "d30081f9",
   "metadata": {},
   "outputs": [
    {
     "name": "stdout",
     "output_type": "stream",
     "text": [
      "Defaulting to user installation because normal site-packages is not writeable\n",
      "Collecting textblob\n",
      "  Downloading textblob-0.17.1-py2.py3-none-any.whl (636 kB)\n",
      "                                              0.0/636.8 kB ? eta -:--:--\n",
      "     --------------------------------      553.0/636.8 kB 17.5 MB/s eta 0:00:01\n",
      "     ------------------------------------- 636.8/636.8 kB 13.3 MB/s eta 0:00:00\n",
      "Requirement already satisfied: nltk>=3.1 in c:\\programdata\\anaconda3\\lib\\site-packages (from textblob) (3.7)\n",
      "Requirement already satisfied: click in c:\\programdata\\anaconda3\\lib\\site-packages (from nltk>=3.1->textblob) (8.0.4)\n",
      "Requirement already satisfied: joblib in c:\\programdata\\anaconda3\\lib\\site-packages (from nltk>=3.1->textblob) (1.2.0)\n",
      "Requirement already satisfied: regex>=2021.8.3 in c:\\programdata\\anaconda3\\lib\\site-packages (from nltk>=3.1->textblob) (2022.7.9)\n",
      "Requirement already satisfied: tqdm in c:\\programdata\\anaconda3\\lib\\site-packages (from nltk>=3.1->textblob) (4.65.0)\n",
      "Requirement already satisfied: colorama in c:\\programdata\\anaconda3\\lib\\site-packages (from click->nltk>=3.1->textblob) (0.4.6)\n",
      "Installing collected packages: textblob\n",
      "Successfully installed textblob-0.17.1\n",
      "Note: you may need to restart the kernel to use updated packages.\n"
     ]
    }
   ],
   "source": [
    "pip install textblob\n"
   ]
  },
  {
   "cell_type": "code",
   "execution_count": 15,
   "id": "29fb7f95",
   "metadata": {},
   "outputs": [],
   "source": [
    "from textblob import TextBlob\n",
    "\n",
    "def analyze_sentiment(text):\n",
    "    analysis = TextBlob(text)\n",
    "    polarity = analysis.sentiment.polarity\n",
    "    if polarity > 0:\n",
    "        return 'Positive'\n",
    "    elif polarity < 0:\n",
    "        return 'Negative'\n",
    "    else:\n",
    "        return 'Neutral'\n",
    "\n",
    "# Make sure reviews_df and the 'clean_review' column exist\n",
    "reviews_df['sentiment'] = reviews_df['clean_review'].apply(analyze_sentiment)\n"
   ]
  },
  {
   "cell_type": "code",
   "execution_count": 16,
   "id": "6178fa55",
   "metadata": {},
   "outputs": [],
   "source": [
    "sentiment_distribution = reviews_df['sentiment'].value_counts(normalize=True) * 100\n"
   ]
  },
  {
   "cell_type": "code",
   "execution_count": 17,
   "id": "a672e72c",
   "metadata": {},
   "outputs": [
    {
     "name": "stdout",
     "output_type": "stream",
     "text": [
      "Positive    57.255360\n",
      "Negative    27.961433\n",
      "Neutral     14.783208\n",
      "Name: sentiment, dtype: float64\n"
     ]
    }
   ],
   "source": [
    "print(sentiment_distribution)"
   ]
  },
  {
   "cell_type": "code",
   "execution_count": 20,
   "id": "5408448a",
   "metadata": {},
   "outputs": [
    {
     "data": {
      "image/png": "[encoded data removed]",
      "text/plain": [
       "<Figure size 800x600 with 1 Axes>"
      ]
     },
     "metadata": {},
     "output_type": "display_data"
    }
   ],
   "source": [
    "# Create a bar plot for sentiment distribution\n",
    "plt.figure(figsize=(8, 6))\n",
    "barplot = sns.barplot(x=sentiment_distribution.index, y=sentiment_distribution.values, palette=\"viridis\")\n",
    "\n",
    "# Add title and labels to the plot\n",
    "plt.title('Sentiment Distribution of McDonald\\'s Reviews', fontsize=15)\n",
    "plt.xlabel('Sentiment Category', fontsize=12)\n",
    "plt.ylabel('Percentage (%)', fontsize=12)\n",
    "plt.xticks(rotation=45)  # Rotate labels to improve readability\n",
    "\n",
    "# Annotate each bar with the percentage value\n",
    "for p in barplot.patches:\n",
    "    barplot.annotate(format(p.get_height(), '.2f') + '%', \n",
    "                     (p.get_x() + p.get_width() / 2., p.get_height()), \n",
    "                     ha = 'center', va = 'center', \n",
    "                     xytext = (0, 9), \n",
    "                     textcoords = 'offset points')\n",
    "\n",
    "# Display the plot\n",
    "plt.show()\n"
   ]
  },
  {
   "cell_type": "code",
   "execution_count": null,
   "id": "b2e100ff",
   "metadata": {},
   "outputs": [],
   "source": []
  }
 ],
 "metadata": {
  "kernelspec": {
   "display_name": "Python 3 (ipykernel)",
   "language": "python",
   "name": "python3"
  },
  "language_info": {
   "codemirror_mode": {
    "name": "ipython",
    "version": 3
   },
   "file_extension": ".py",
   "mimetype": "text/x-python",
   "name": "python",
   "nbconvert_exporter": "python",
   "pygments_lexer": "ipython3",
   "version": "3.11.3"
  }
 },
 "nbformat": 4,
 "nbformat_minor": 5
}
